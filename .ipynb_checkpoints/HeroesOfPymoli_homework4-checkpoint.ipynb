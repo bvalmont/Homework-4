{
 "cells": [
  {
   "cell_type": "markdown",
   "metadata": {},
   "source": [
    "### Heroes Of Pymoli Data Analysis\n",
    "* Of the 1163 active players, the vast majority are male (84%). There also exists, a smaller, but notable proportion of female players (14%).\n",
    "\n",
    "* Our peak age demographic falls between 20-24 (44.8%) with secondary groups falling between 15-19 (18.60%) and 25-29 (13.4%).  \n",
    "-----"
   ]
  },
  {
   "cell_type": "markdown",
   "metadata": {},
   "source": [
    "### Note\n",
    "* Instructions have been included for each segment. You do not have to follow them exactly, but they are included to help you think through the steps."
   ]
  },
  {
   "cell_type": "code",
   "execution_count": 1,
   "metadata": {},
   "outputs": [
    {
     "data": {
      "text/html": [
       "<div>\n",
       "<style scoped>\n",
       "    .dataframe tbody tr th:only-of-type {\n",
       "        vertical-align: middle;\n",
       "    }\n",
       "\n",
       "    .dataframe tbody tr th {\n",
       "        vertical-align: top;\n",
       "    }\n",
       "\n",
       "    .dataframe thead th {\n",
       "        text-align: right;\n",
       "    }\n",
       "</style>\n",
       "<table border=\"1\" class=\"dataframe\">\n",
       "  <thead>\n",
       "    <tr style=\"text-align: right;\">\n",
       "      <th></th>\n",
       "      <th>Purchase ID</th>\n",
       "      <th>SN</th>\n",
       "      <th>Age</th>\n",
       "      <th>Gender</th>\n",
       "      <th>Item ID</th>\n",
       "      <th>Item Name</th>\n",
       "      <th>Price</th>\n",
       "    </tr>\n",
       "  </thead>\n",
       "  <tbody>\n",
       "    <tr>\n",
       "      <th>0</th>\n",
       "      <td>0</td>\n",
       "      <td>Lisim78</td>\n",
       "      <td>20</td>\n",
       "      <td>Male</td>\n",
       "      <td>108</td>\n",
       "      <td>Extraction, Quickblade Of Trembling Hands</td>\n",
       "      <td>3.53</td>\n",
       "    </tr>\n",
       "    <tr>\n",
       "      <th>1</th>\n",
       "      <td>1</td>\n",
       "      <td>Lisovynya38</td>\n",
       "      <td>40</td>\n",
       "      <td>Male</td>\n",
       "      <td>143</td>\n",
       "      <td>Frenzied Scimitar</td>\n",
       "      <td>1.56</td>\n",
       "    </tr>\n",
       "    <tr>\n",
       "      <th>2</th>\n",
       "      <td>2</td>\n",
       "      <td>Ithergue48</td>\n",
       "      <td>24</td>\n",
       "      <td>Male</td>\n",
       "      <td>92</td>\n",
       "      <td>Final Critic</td>\n",
       "      <td>4.88</td>\n",
       "    </tr>\n",
       "    <tr>\n",
       "      <th>3</th>\n",
       "      <td>3</td>\n",
       "      <td>Chamassasya86</td>\n",
       "      <td>24</td>\n",
       "      <td>Male</td>\n",
       "      <td>100</td>\n",
       "      <td>Blindscythe</td>\n",
       "      <td>3.27</td>\n",
       "    </tr>\n",
       "    <tr>\n",
       "      <th>4</th>\n",
       "      <td>4</td>\n",
       "      <td>Iskosia90</td>\n",
       "      <td>23</td>\n",
       "      <td>Male</td>\n",
       "      <td>131</td>\n",
       "      <td>Fury</td>\n",
       "      <td>1.44</td>\n",
       "    </tr>\n",
       "  </tbody>\n",
       "</table>\n",
       "</div>"
      ],
      "text/plain": [
       "   Purchase ID             SN  Age Gender  Item ID  \\\n",
       "0            0        Lisim78   20   Male      108   \n",
       "1            1    Lisovynya38   40   Male      143   \n",
       "2            2     Ithergue48   24   Male       92   \n",
       "3            3  Chamassasya86   24   Male      100   \n",
       "4            4      Iskosia90   23   Male      131   \n",
       "\n",
       "                                   Item Name  Price  \n",
       "0  Extraction, Quickblade Of Trembling Hands   3.53  \n",
       "1                          Frenzied Scimitar   1.56  \n",
       "2                               Final Critic   4.88  \n",
       "3                                Blindscythe   3.27  \n",
       "4                                       Fury   1.44  "
      ]
     },
     "execution_count": 1,
     "metadata": {},
     "output_type": "execute_result"
    }
   ],
   "source": [
    "# Dependencies and Setup\n",
    "import pandas as pd\n",
    "import numpy as np\n",
    "\n",
    "# File to Load (Remember to Change These)\n",
    "file_to_load = \"purchase_data.csv\"\n",
    "\n",
    "# Read Purchasing File and store into Pandas data frame\n",
    "purchase_data = pd.read_csv(file_to_load)\n",
    "purchase_data.head()"
   ]
  },
  {
   "cell_type": "markdown",
   "metadata": {},
   "source": [
    "## Player Count"
   ]
  },
  {
   "cell_type": "markdown",
   "metadata": {},
   "source": [
    "* Display the total number of players\n"
   ]
  },
  {
   "cell_type": "code",
   "execution_count": 2,
   "metadata": {},
   "outputs": [
    {
     "data": {
      "text/plain": [
       "576"
      ]
     },
     "execution_count": 2,
     "metadata": {},
     "output_type": "execute_result"
    }
   ],
   "source": [
    "players = purchase_data[\"SN\"].unique()\n",
    "len(players)\n",
    "#counted the unique numbers of players\n",
    "\n",
    "                            \n",
    "\n",
    "\n"
   ]
  },
  {
   "cell_type": "code",
   "execution_count": 3,
   "metadata": {},
   "outputs": [
    {
     "data": {
      "text/html": [
       "<div>\n",
       "<style scoped>\n",
       "    .dataframe tbody tr th:only-of-type {\n",
       "        vertical-align: middle;\n",
       "    }\n",
       "\n",
       "    .dataframe tbody tr th {\n",
       "        vertical-align: top;\n",
       "    }\n",
       "\n",
       "    .dataframe thead th {\n",
       "        text-align: right;\n",
       "    }\n",
       "</style>\n",
       "<table border=\"1\" class=\"dataframe\">\n",
       "  <thead>\n",
       "    <tr style=\"text-align: right;\">\n",
       "      <th></th>\n",
       "      <th>Total Players</th>\n",
       "    </tr>\n",
       "  </thead>\n",
       "  <tbody>\n",
       "    <tr>\n",
       "      <th>0</th>\n",
       "      <td>576</td>\n",
       "    </tr>\n",
       "  </tbody>\n",
       "</table>\n",
       "</div>"
      ],
      "text/plain": [
       "  Total Players\n",
       "0           576"
      ]
     },
     "execution_count": 3,
     "metadata": {},
     "output_type": "execute_result"
    }
   ],
   "source": [
    "players2 = ([{\"Total Players\": \"576\"}])\n",
    "count_of_players = pd.DataFrame(players2)\n",
    "count_of_players\n",
    "#created a dataframe to show \"Total Players\""
   ]
  },
  {
   "cell_type": "markdown",
   "metadata": {},
   "source": [
    "## Purchasing Analysis (Total)"
   ]
  },
  {
   "cell_type": "markdown",
   "metadata": {},
   "source": [
    "* Run basic calculations to obtain number of unique items, average price, etc.\n",
    "\n",
    "\n",
    "* Create a summary data frame to hold the results\n",
    "\n",
    "\n",
    "* Optional: give the displayed data cleaner formatting\n",
    "\n",
    "\n",
    "* Display the summary data frame\n"
   ]
  },
  {
   "cell_type": "code",
   "execution_count": 4,
   "metadata": {
    "scrolled": true
   },
   "outputs": [
    {
     "data": {
      "text/plain": [
       "183"
      ]
     },
     "execution_count": 4,
     "metadata": {},
     "output_type": "execute_result"
    }
   ],
   "source": [
    "unique_items = purchase_data[\"Item ID\"].unique()\n",
    "len(unique_items)\n"
   ]
  },
  {
   "cell_type": "code",
   "execution_count": 5,
   "metadata": {},
   "outputs": [
    {
     "data": {
      "text/plain": [
       "'$2,379.77'"
      ]
     },
     "execution_count": 5,
     "metadata": {},
     "output_type": "execute_result"
    }
   ],
   "source": [
    "Total_Revenue = purchase_data[\"Price\"].sum()\n",
    "'${:,.2f}'.format(Total_Revenue)"
   ]
  },
  {
   "cell_type": "code",
   "execution_count": 6,
   "metadata": {},
   "outputs": [
    {
     "data": {
      "text/plain": [
       "780"
      ]
     },
     "execution_count": 6,
     "metadata": {},
     "output_type": "execute_result"
    }
   ],
   "source": [
    "Number_of_Purchases = len(purchase_data[\"Price\"])\n",
    "Number_of_Purchases"
   ]
  },
  {
   "cell_type": "code",
   "execution_count": 7,
   "metadata": {},
   "outputs": [
    {
     "data": {
      "text/plain": [
       "'$3.05'"
      ]
     },
     "execution_count": 7,
     "metadata": {},
     "output_type": "execute_result"
    }
   ],
   "source": [
    "len(purchase_data[\"Price\"])\n",
    "(Average_Price) = Total_Revenue/len(purchase_data[\"Price\"])\n",
    "'${:,.2f}'.format(Average_Price)\n"
   ]
  },
  {
   "cell_type": "code",
   "execution_count": 8,
   "metadata": {},
   "outputs": [
    {
     "data": {
      "text/html": [
       "<div>\n",
       "<style scoped>\n",
       "    .dataframe tbody tr th:only-of-type {\n",
       "        vertical-align: middle;\n",
       "    }\n",
       "\n",
       "    .dataframe tbody tr th {\n",
       "        vertical-align: top;\n",
       "    }\n",
       "\n",
       "    .dataframe thead th {\n",
       "        text-align: right;\n",
       "    }\n",
       "</style>\n",
       "<table border=\"1\" class=\"dataframe\">\n",
       "  <thead>\n",
       "    <tr style=\"text-align: right;\">\n",
       "      <th></th>\n",
       "      <th>Average Price</th>\n",
       "      <th>Number of Purchases</th>\n",
       "      <th>Number of Unique Items</th>\n",
       "      <th>Total Revenue</th>\n",
       "    </tr>\n",
       "  </thead>\n",
       "  <tbody>\n",
       "    <tr>\n",
       "      <th>0</th>\n",
       "      <td>$3.05</td>\n",
       "      <td>780</td>\n",
       "      <td>183</td>\n",
       "      <td>$2,379.77</td>\n",
       "    </tr>\n",
       "  </tbody>\n",
       "</table>\n",
       "</div>"
      ],
      "text/plain": [
       "  Average Price Number of Purchases Number of Unique Items Total Revenue\n",
       "0         $3.05                 780                    183     $2,379.77"
      ]
     },
     "execution_count": 8,
     "metadata": {},
     "output_type": "execute_result"
    }
   ],
   "source": [
    "analysis = ([{\"Number of Unique Items\": \"183\", \"Average Price\": \"$3.05\", \"Number of Purchases\": \"780\", \"Total Revenue\": \"$2,379.77\"}])\n",
    "purchasing_analysis = pd.DataFrame(analysis)\n",
    "purchasing_analysis"
   ]
  },
  {
   "cell_type": "markdown",
   "metadata": {},
   "source": [
    "## Gender Demographics"
   ]
  },
  {
   "cell_type": "markdown",
   "metadata": {},
   "source": [
    "* Percentage and Count of Male Players\n",
    "\n",
    "\n",
    "* Percentage and Count of Female Players\n",
    "\n",
    "\n",
    "* Percentage and Count of Other / Non-Disclosed\n",
    "\n",
    "\n"
   ]
  },
  {
   "cell_type": "code",
   "execution_count": 9,
   "metadata": {},
   "outputs": [
    {
     "data": {
      "text/plain": [
       "Gender\n",
       "Female                    81\n",
       "Male                     484\n",
       "Other / Non-Disclosed     11\n",
       "Name: SN, dtype: int64"
      ]
     },
     "execution_count": 9,
     "metadata": {},
     "output_type": "execute_result"
    }
   ],
   "source": [
    "#Find the number of unique females, unique males, and unique other/non-disclosed\n",
    "demographics = purchase_data.groupby('Gender')['SN'].nunique()\n",
    "demographics"
   ]
  },
  {
   "cell_type": "code",
   "execution_count": 10,
   "metadata": {},
   "outputs": [],
   "source": [
    "#Create variables that will be used to calculate percentage of each gender profile\n",
    "Total_Females = 81\n",
    "Total_Males = 484\n",
    "Total_Other_Non_Disclosed = 11\n",
    "Total = Total_Females + Total_Males + Total_Other_Non_Disclosed\n",
    "Total\n",
    "Female_Percentage = Total_Females/Total * 100\n",
    "Male_Percentage = Total_Males/Total * 100\n",
    "Other_Non_Disclosed_Percentage = Total_Other_Non_Disclosed/Total * 100"
   ]
  },
  {
   "cell_type": "code",
   "execution_count": 11,
   "metadata": {},
   "outputs": [
    {
     "data": {
      "text/plain": [
       "14.06"
      ]
     },
     "execution_count": 11,
     "metadata": {},
     "output_type": "execute_result"
    }
   ],
   "source": [
    "round(Female_Percentage, 2)"
   ]
  },
  {
   "cell_type": "code",
   "execution_count": 12,
   "metadata": {},
   "outputs": [
    {
     "data": {
      "text/plain": [
       "84.03"
      ]
     },
     "execution_count": 12,
     "metadata": {},
     "output_type": "execute_result"
    }
   ],
   "source": [
    "round(Male_Percentage, 2)"
   ]
  },
  {
   "cell_type": "code",
   "execution_count": 13,
   "metadata": {},
   "outputs": [
    {
     "data": {
      "text/plain": [
       "1.91"
      ]
     },
     "execution_count": 13,
     "metadata": {},
     "output_type": "execute_result"
    }
   ],
   "source": [
    "round(Other_Non_Disclosed_Percentage, 2)"
   ]
  },
  {
   "cell_type": "code",
   "execution_count": 14,
   "metadata": {},
   "outputs": [
    {
     "data": {
      "text/html": [
       "<div>\n",
       "<style scoped>\n",
       "    .dataframe tbody tr th:only-of-type {\n",
       "        vertical-align: middle;\n",
       "    }\n",
       "\n",
       "    .dataframe tbody tr th {\n",
       "        vertical-align: top;\n",
       "    }\n",
       "\n",
       "    .dataframe thead th {\n",
       "        text-align: right;\n",
       "    }\n",
       "</style>\n",
       "<table border=\"1\" class=\"dataframe\">\n",
       "  <thead>\n",
       "    <tr style=\"text-align: right;\">\n",
       "      <th></th>\n",
       "      <th>Percentage of Players</th>\n",
       "      <th>Total Count</th>\n",
       "    </tr>\n",
       "    <tr>\n",
       "      <th>Sex</th>\n",
       "      <th></th>\n",
       "      <th></th>\n",
       "    </tr>\n",
       "  </thead>\n",
       "  <tbody>\n",
       "    <tr>\n",
       "      <th>Male</th>\n",
       "      <td>84.03</td>\n",
       "      <td>484</td>\n",
       "    </tr>\n",
       "    <tr>\n",
       "      <th>Female</th>\n",
       "      <td>14.06</td>\n",
       "      <td>81</td>\n",
       "    </tr>\n",
       "    <tr>\n",
       "      <th>Other/Non-Disclosed</th>\n",
       "      <td>1.91</td>\n",
       "      <td>11</td>\n",
       "    </tr>\n",
       "  </tbody>\n",
       "</table>\n",
       "</div>"
      ],
      "text/plain": [
       "                     Percentage of Players  Total Count\n",
       "Sex                                                    \n",
       "Male                                 84.03          484\n",
       "Female                               14.06           81\n",
       "Other/Non-Disclosed                   1.91           11"
      ]
     },
     "execution_count": 14,
     "metadata": {},
     "output_type": "execute_result"
    }
   ],
   "source": [
    "#Create dataframe showing percentage of Players, Players' Sex, Total Count\n",
    "gender_breakdown =  [{'Sex': 'Male', 'Total Count': 484, 'Percentage of Players': 84.03},\n",
    "         {'Sex': 'Female',  'Total Count': 81, 'Percentage of Players': 14.06},\n",
    "         {'Sex': 'Other/Non-Disclosed',  'Total Count': 11,  'Percentage of Players': 1.91}]\n",
    "gender_count_chart = pd.DataFrame(gender_breakdown)\n",
    "gender_count_chart.set_index('Sex')\n"
   ]
  },
  {
   "cell_type": "markdown",
   "metadata": {},
   "source": [
    "\n",
    "## Purchasing Analysis (Gender)"
   ]
  },
  {
   "cell_type": "markdown",
   "metadata": {},
   "source": [
    "* Run basic calculations to obtain purchase count, avg. purchase price, avg. purchase total per person etc. by gender\n",
    "\n",
    "\n",
    "\n",
    "\n",
    "* Create a summary data frame to hold the results\n",
    "\n",
    "\n",
    "* Optional: give the displayed data cleaner formatting\n",
    "\n",
    "\n",
    "* Display the summary data frame"
   ]
  },
  {
   "cell_type": "code",
   "execution_count": 15,
   "metadata": {},
   "outputs": [
    {
     "name": "stdout",
     "output_type": "stream",
     "text": [
      "113\n",
      "$3.20\n",
      "$361.94\n",
      "$4.47\n"
     ]
    }
   ],
   "source": [
    "#Calculating all the female purchase stats\n",
    "female_purchase_stats = purchase_data.loc[purchase_data[\"Gender\"]== \"Female\", :]\n",
    "female_purchases_count_unique = len(female_purchase_stats[\"SN\"].unique())\n",
    "female_purchases_count_total = len(female_purchase_stats[\"SN\"])\n",
    "female_purchase_value = female_purchase_stats[\"Price\"].sum()\n",
    "print(female_purchases_count_total)\n",
    "avg_f_purchase_price = female_purchase_value/female_purchases_count_total\n",
    "print('${:.2f}'.format(avg_f_purchase_price))\n",
    "print('${:.2f}'.format(female_purchase_value))\n",
    "avg_f_purchase_person = female_purchase_value/female_purchases_count_unique\n",
    "print('${:.2f}'.format(avg_f_purchase_person))"
   ]
  },
  {
   "cell_type": "code",
   "execution_count": 16,
   "metadata": {},
   "outputs": [
    {
     "name": "stdout",
     "output_type": "stream",
     "text": [
      "652\n",
      "$3.02\n",
      "$1967.64\n",
      "$4.07\n"
     ]
    }
   ],
   "source": [
    "#Calculating all the male purchase stats\n",
    "male_purchase_stats = purchase_data.loc[purchase_data[\"Gender\"]== \"Male\", :]\n",
    "male_purchases_count_unique = len(male_purchase_stats[\"SN\"].unique())\n",
    "male_purchases_count_total = len(male_purchase_stats[\"SN\"])\n",
    "male_purchase_value = male_purchase_stats[\"Price\"].sum()\n",
    "print(male_purchases_count_total)\n",
    "avg_m_purchase_price = male_purchase_value/male_purchases_count_total\n",
    "print('${:.2f}'.format(avg_m_purchase_price))\n",
    "print('${:.2f}'.format(male_purchase_value))\n",
    "avg_m_purchase_person = male_purchase_value/male_purchases_count_unique\n",
    "print('${:.2f}'.format(avg_m_purchase_person))\n"
   ]
  },
  {
   "cell_type": "code",
   "execution_count": 17,
   "metadata": {},
   "outputs": [
    {
     "name": "stdout",
     "output_type": "stream",
     "text": [
      "15\n",
      "$3.35\n",
      "$50.19\n",
      "$4.56\n"
     ]
    }
   ],
   "source": [
    "#Calculating all other/non-disclosed purchase stats\n",
    "other_purchase_stats = purchase_data.loc[purchase_data[\"Gender\"]== \"Other / Non-Disclosed\", :]\n",
    "other_purchases_count_unique = len(other_purchase_stats[\"SN\"].unique())\n",
    "other_purchases_count_total = len(other_purchase_stats[\"SN\"])\n",
    "other_purchase_value = other_purchase_stats[\"Price\"].sum()\n",
    "print(other_purchases_count_total)\n",
    "avg_o_purchase_price = other_purchase_value/other_purchases_count_total\n",
    "print('${:.2f}'.format(avg_o_purchase_price))\n",
    "print('${:.2f}'.format(other_purchase_value))\n",
    "avg_o_purchase_person = other_purchase_value/other_purchases_count_unique\n",
    "print('${:.2f}'.format(avg_o_purchase_person))\n",
    "\n",
    "\n"
   ]
  },
  {
   "cell_type": "code",
   "execution_count": 18,
   "metadata": {},
   "outputs": [
    {
     "data": {
      "text/html": [
       "<div>\n",
       "<style scoped>\n",
       "    .dataframe tbody tr th:only-of-type {\n",
       "        vertical-align: middle;\n",
       "    }\n",
       "\n",
       "    .dataframe tbody tr th {\n",
       "        vertical-align: top;\n",
       "    }\n",
       "\n",
       "    .dataframe thead th {\n",
       "        text-align: right;\n",
       "    }\n",
       "</style>\n",
       "<table border=\"1\" class=\"dataframe\">\n",
       "  <thead>\n",
       "    <tr style=\"text-align: right;\">\n",
       "      <th></th>\n",
       "      <th>Avg Purchase Per Person</th>\n",
       "      <th>Avg Purchase Price</th>\n",
       "      <th>Purchase Count</th>\n",
       "      <th>Purchase Value</th>\n",
       "    </tr>\n",
       "    <tr>\n",
       "      <th>Gender</th>\n",
       "      <th></th>\n",
       "      <th></th>\n",
       "      <th></th>\n",
       "      <th></th>\n",
       "    </tr>\n",
       "  </thead>\n",
       "  <tbody>\n",
       "    <tr>\n",
       "      <th>Male</th>\n",
       "      <td>$4.07</td>\n",
       "      <td>$3.02</td>\n",
       "      <td>652</td>\n",
       "      <td>$1967.64</td>\n",
       "    </tr>\n",
       "    <tr>\n",
       "      <th>Female</th>\n",
       "      <td>$4.47</td>\n",
       "      <td>$3.20</td>\n",
       "      <td>113</td>\n",
       "      <td>$361.94</td>\n",
       "    </tr>\n",
       "    <tr>\n",
       "      <th>Other/Non-Disclosed</th>\n",
       "      <td>$4.56</td>\n",
       "      <td>3.35</td>\n",
       "      <td>15</td>\n",
       "      <td>$50.19</td>\n",
       "    </tr>\n",
       "  </tbody>\n",
       "</table>\n",
       "</div>"
      ],
      "text/plain": [
       "                    Avg Purchase Per Person Avg Purchase Price  \\\n",
       "Gender                                                           \n",
       "Male                                  $4.07              $3.02   \n",
       "Female                                $4.47              $3.20   \n",
       "Other/Non-Disclosed                   $4.56               3.35   \n",
       "\n",
       "                     Purchase Count Purchase Value  \n",
       "Gender                                              \n",
       "Male                            652       $1967.64  \n",
       "Female                          113        $361.94  \n",
       "Other/Non-Disclosed              15         $50.19  "
      ]
     },
     "execution_count": 18,
     "metadata": {},
     "output_type": "execute_result"
    }
   ],
   "source": [
    "gender_purchase_breakdown = [{'Gender': 'Male', 'Purchase Count': 652, 'Avg Purchase Price': '$3.02', 'Purchase Value':\"$1967.64\", 'Avg Purchase Per Person': '$4.07'},\n",
    "         {'Gender': 'Female',  'Purchase Count': 113, 'Avg Purchase Price': '$3.20', 'Purchase Value':'$361.94', 'Avg Purchase Per Person': '$4.47'},\n",
    "         {'Gender': 'Other/Non-Disclosed',  'Purchase Count': 15,  'Avg Purchase Price': '3.35', 'Purchase Value':'$50.19', 'Avg Purchase Per Person': '$4.56'}]\n",
    "gender_purchase_chart = pd.DataFrame(gender_purchase_breakdown)\n",
    "gender_purchase_chart.set_index('Gender')"
   ]
  },
  {
   "cell_type": "markdown",
   "metadata": {},
   "source": [
    "## Age Demographics"
   ]
  },
  {
   "cell_type": "markdown",
   "metadata": {},
   "source": [
    "* Establish bins for ages\n",
    "\n",
    "\n",
    "* Categorize the existing players using the age bins. Hint: use pd.cut()\n",
    "\n",
    "\n",
    "* Calculate the numbers and percentages by age group\n",
    "\n",
    "\n",
    "* Create a summary data frame to hold the results\n",
    "\n",
    "\n",
    "* Optional: round the percentage column to two decimal points\n",
    "\n",
    "\n",
    "* Display Age Demographics Table\n"
   ]
  },
  {
   "cell_type": "code",
   "execution_count": 19,
   "metadata": {},
   "outputs": [
    {
     "data": {
      "text/plain": [
       "Age Group\n",
       "<10       17\n",
       "10-14     22\n",
       "15-19    107\n",
       "20-24    258\n",
       "25-29     77\n",
       "30-34     52\n",
       "35-39     31\n",
       "40+       12\n",
       "Name: SN, dtype: int64"
      ]
     },
     "execution_count": 19,
     "metadata": {},
     "output_type": "execute_result"
    }
   ],
   "source": [
    "#Create a column in purchase_data dataframe that will put ages in a certain age grouping and count unique players by age group\n",
    "bins = [0, 9, 14, 19, 24, 29, 34, 39, 150]\n",
    "group_names = [\"<10\", \"10-14\", \"15-19\", \"20-24\", \"25-29\",\"30-34\", \"35-39\", \"40+\"]\n",
    "purchase_data[\"Age Group\"]=pd.cut(purchase_data[\"Age\"], bins, labels = group_names)\n",
    "purchase_data.head()\n",
    "Grouping = purchase_data.groupby(\"Age Group\")[\"SN\"].nunique()\n",
    "Grouping\n",
    "\n"
   ]
  },
  {
   "cell_type": "code",
   "execution_count": 20,
   "metadata": {},
   "outputs": [
    {
     "name": "stdout",
     "output_type": "stream",
     "text": [
      "2.95\n",
      "3.82\n",
      "18.58\n",
      "44.79\n",
      "13.37\n",
      "9.03\n",
      "5.38\n",
      "2.08\n"
     ]
    }
   ],
   "source": [
    "#Calculate percentage of each agre group by numer of age group divided by total players\n",
    "under_ten_percentage = 17/Total * 100\n",
    "print(round(under_ten_percentage, 2))\n",
    "ten_to_fourteen_percentage = 22/Total *100\n",
    "print(round(ten_to_fourteen_percentage, 2))\n",
    "fifteen_to_ninteen_percentage = 107/Total * 100\n",
    "print(round(fifteen_to_ninteen_percentage, 2))\n",
    "twenty_to_twentyfour_percentage = 258/Total * 100\n",
    "print(round(twenty_to_twentyfour_percentage, 2))\n",
    "twentyfive_to_twentynine_percentage = 77/Total * 100\n",
    "print(round(twentyfive_to_twentynine_percentage, 2))\n",
    "thirty_to_thirtyfour_percentage = 52/Total * 100\n",
    "print(round(thirty_to_thirtyfour_percentage, 2))\n",
    "thirtyfive_to_thirtynine_percentage = 31/Total * 100\n",
    "print(round(thirtyfive_to_thirtynine_percentage, 2))\n",
    "forty_and_over_percentage = 12/Total * 100\n",
    "print(round(forty_and_over_percentage, 2))"
   ]
  },
  {
   "cell_type": "code",
   "execution_count": 21,
   "metadata": {},
   "outputs": [
    {
     "data": {
      "text/html": [
       "<div>\n",
       "<style scoped>\n",
       "    .dataframe tbody tr th:only-of-type {\n",
       "        vertical-align: middle;\n",
       "    }\n",
       "\n",
       "    .dataframe tbody tr th {\n",
       "        vertical-align: top;\n",
       "    }\n",
       "\n",
       "    .dataframe thead th {\n",
       "        text-align: right;\n",
       "    }\n",
       "</style>\n",
       "<table border=\"1\" class=\"dataframe\">\n",
       "  <thead>\n",
       "    <tr style=\"text-align: right;\">\n",
       "      <th></th>\n",
       "      <th>Percentage of Players</th>\n",
       "      <th>Total Count</th>\n",
       "    </tr>\n",
       "    <tr>\n",
       "      <th>Age Group</th>\n",
       "      <th></th>\n",
       "      <th></th>\n",
       "    </tr>\n",
       "  </thead>\n",
       "  <tbody>\n",
       "    <tr>\n",
       "      <th>&lt;10</th>\n",
       "      <td>2.95</td>\n",
       "      <td>17</td>\n",
       "    </tr>\n",
       "    <tr>\n",
       "      <th>10-14</th>\n",
       "      <td>3.82</td>\n",
       "      <td>22</td>\n",
       "    </tr>\n",
       "    <tr>\n",
       "      <th>15-19</th>\n",
       "      <td>18.58</td>\n",
       "      <td>107</td>\n",
       "    </tr>\n",
       "    <tr>\n",
       "      <th>20-24</th>\n",
       "      <td>44.79</td>\n",
       "      <td>258</td>\n",
       "    </tr>\n",
       "    <tr>\n",
       "      <th>25-29</th>\n",
       "      <td>13.37</td>\n",
       "      <td>77</td>\n",
       "    </tr>\n",
       "    <tr>\n",
       "      <th>30-34</th>\n",
       "      <td>9.03</td>\n",
       "      <td>52</td>\n",
       "    </tr>\n",
       "    <tr>\n",
       "      <th>35-39</th>\n",
       "      <td>5.38</td>\n",
       "      <td>31</td>\n",
       "    </tr>\n",
       "    <tr>\n",
       "      <th>40+</th>\n",
       "      <td>2.08</td>\n",
       "      <td>12</td>\n",
       "    </tr>\n",
       "  </tbody>\n",
       "</table>\n",
       "</div>"
      ],
      "text/plain": [
       "          Percentage of Players Total Count\n",
       "Age Group                                  \n",
       "<10                        2.95          17\n",
       "10-14                      3.82          22\n",
       "15-19                     18.58         107\n",
       "20-24                     44.79         258\n",
       "25-29                     13.37          77\n",
       "30-34                      9.03          52\n",
       "35-39                      5.38          31\n",
       "40+                        2.08          12"
      ]
     },
     "execution_count": 21,
     "metadata": {},
     "output_type": "execute_result"
    }
   ],
   "source": [
    "#Create summary dataframe and present chart\n",
    "agegroupdata = [{\"Age Group\": \"<10\", \"Total Count\": \"17\", \"Percentage of Players\": \"2.95\" },\n",
    "               {\"Age Group\": \"10-14\", \"Total Count\": \"22\", \"Percentage of Players\": \"3.82\"},\n",
    "               {\"Age Group\": \"15-19\", \"Total Count\": \"107\", \"Percentage of Players\": \"18.58\"},\n",
    "               {\"Age Group\": \"20-24\", \"Total Count\": \"258\", \"Percentage of Players\": \"44.79\"},\n",
    "               {\"Age Group\": \"25-29\", \"Total Count\": \"77\", \"Percentage of Players\": \"13.37\"},\n",
    "               {\"Age Group\": \"30-34\", \"Total Count\": \"52\", \"Percentage of Players\": \"9.03\"},\n",
    "               {\"Age Group\": \"35-39\", \"Total Count\": \"31\", \"Percentage of Players\": \"5.38\"},\n",
    "               {\"Age Group\": \"40+\", \"Total Count\": \"12\", \"Percentage of Players\": \"2.08\"},]\n",
    "grouped_by_age = pd.DataFrame(agegroupdata)\n",
    "grouped_by_age.set_index('Age Group')"
   ]
  },
  {
   "cell_type": "markdown",
   "metadata": {},
   "source": [
    "## Purchasing Analysis (Age)"
   ]
  },
  {
   "cell_type": "markdown",
   "metadata": {},
   "source": [
    "* Bin the purchase_data data frame by age\n",
    "\n",
    "\n",
    "* Run basic calculations to obtain purchase count, avg. purchase price, avg. purchase total per person etc. in the table below\n",
    "\n",
    "\n",
    "* Create a summary data frame to hold the results\n",
    "\n",
    "\n",
    "* Optional: give the displayed data cleaner formatting\n",
    "\n",
    "\n",
    "* Display the summary data frame"
   ]
  },
  {
   "cell_type": "code",
   "execution_count": 22,
   "metadata": {},
   "outputs": [
    {
     "data": {
      "text/plain": [
       "20-24    365\n",
       "15-19    136\n",
       "25-29    101\n",
       "30-34     73\n",
       "35-39     41\n",
       "10-14     28\n",
       "<10       23\n",
       "40+       13\n",
       "Name: Age Group, dtype: int64"
      ]
     },
     "execution_count": 22,
     "metadata": {},
     "output_type": "execute_result"
    }
   ],
   "source": [
    "#Find purchase count for each age group (not unique users)\n",
    "purchase_data[\"Age Group\"].value_counts()"
   ]
  },
  {
   "cell_type": "code",
   "execution_count": 23,
   "metadata": {},
   "outputs": [
    {
     "name": "stdout",
     "output_type": "stream",
     "text": [
      "23\n",
      "$3.35\n",
      "$77.13\n",
      "$4.54\n"
     ]
    }
   ],
   "source": [
    "#Find purchase stats for age group less than 10\n",
    "less10_purchase_stats = purchase_data.loc[purchase_data[\"Age Group\"]== \"<10\", :]\n",
    "less10_purchases_count_unique = len(less10_purchase_stats[\"SN\"].unique())\n",
    "less10_purchases_count_total = len(less10_purchase_stats[\"SN\"])\n",
    "less10_purchase_value = less10_purchase_stats[\"Price\"].sum()\n",
    "print(less10_purchases_count_total)\n",
    "avg_less10_purchase_price = less10_purchase_value/less10_purchases_count_total\n",
    "print('${:.2f}'.format(avg_less10_purchase_price))\n",
    "print('${:.2f}'.format(less10_purchase_value))\n",
    "avg_less10_purchase_person = less10_purchase_value/less10_purchases_count_unique\n",
    "print('${:.2f}'.format(avg_less10_purchase_person))"
   ]
  },
  {
   "cell_type": "code",
   "execution_count": 24,
   "metadata": {},
   "outputs": [
    {
     "name": "stdout",
     "output_type": "stream",
     "text": [
      "28\n",
      "$2.96\n",
      "$82.78\n",
      "$3.76\n"
     ]
    }
   ],
   "source": [
    "#Find purchase stats for age group 10-14\n",
    "tento14_purchase_stats = purchase_data.loc[purchase_data[\"Age Group\"]== \"10-14\", :]\n",
    "tento14_purchases_count_unique = len(tento14_purchase_stats[\"SN\"].unique())\n",
    "tento14_purchases_count_total = len(tento14_purchase_stats[\"SN\"])\n",
    "tento14_purchase_value = tento14_purchase_stats[\"Price\"].sum()\n",
    "print(tento14_purchases_count_total)\n",
    "avg_tento14_purchase_price = tento14_purchase_value/tento14_purchases_count_total\n",
    "print('${:.2f}'.format(avg_tento14_purchase_price))\n",
    "print('${:.2f}'.format(tento14_purchase_value))\n",
    "avg_tento14_purchase_person = tento14_purchase_value/tento14_purchases_count_unique\n",
    "print('${:.2f}'.format(avg_tento14_purchase_person))"
   ]
  },
  {
   "cell_type": "code",
   "execution_count": 25,
   "metadata": {},
   "outputs": [
    {
     "name": "stdout",
     "output_type": "stream",
     "text": [
      "136\n",
      "$3.04\n",
      "$412.89\n",
      "$3.86\n"
     ]
    }
   ],
   "source": [
    "#Find purchase stats for age group 15-19\n",
    "fif19_purchase_stats = purchase_data.loc[purchase_data[\"Age Group\"]== \"15-19\", :]\n",
    "fif19_purchases_count_unique = len(fif19_purchase_stats[\"SN\"].unique())\n",
    "fif19_purchases_count_total = len(fif19_purchase_stats[\"SN\"])\n",
    "fif19_purchase_value = fif19_purchase_stats[\"Price\"].sum()\n",
    "print(fif19_purchases_count_total)\n",
    "avg_fif19_purchase_price = fif19_purchase_value/fif19_purchases_count_total\n",
    "print('${:.2f}'.format(avg_fif19_purchase_price))\n",
    "print('${:.2f}'.format(fif19_purchase_value))\n",
    "avg_fif19_purchase_person = fif19_purchase_value/fif19_purchases_count_unique\n",
    "print('${:.2f}'.format(avg_fif19_purchase_person))"
   ]
  },
  {
   "cell_type": "code",
   "execution_count": 26,
   "metadata": {},
   "outputs": [
    {
     "name": "stdout",
     "output_type": "stream",
     "text": [
      "365\n",
      "$3.05\n",
      "$1114.06\n",
      "$4.32\n"
     ]
    }
   ],
   "source": [
    "#Find purchase stats for age group 20-24\n",
    "twenty24_purchase_stats = purchase_data.loc[purchase_data[\"Age Group\"]== \"20-24\", :]\n",
    "twenty24_purchases_count_unique = len(twenty24_purchase_stats[\"SN\"].unique())\n",
    "twenty24_purchases_count_total = len(twenty24_purchase_stats[\"SN\"])\n",
    "twenty24_purchase_value = twenty24_purchase_stats[\"Price\"].sum()\n",
    "print(twenty24_purchases_count_total)\n",
    "avg_twenty24_purchase_price = twenty24_purchase_value/twenty24_purchases_count_total\n",
    "print('${:.2f}'.format(avg_twenty24_purchase_price))\n",
    "print('${:.2f}'.format(twenty24_purchase_value))\n",
    "avg_twenty24_purchase_person = twenty24_purchase_value/twenty24_purchases_count_unique\n",
    "print('${:.2f}'.format(avg_twenty24_purchase_person))\n"
   ]
  },
  {
   "cell_type": "code",
   "execution_count": 27,
   "metadata": {},
   "outputs": [
    {
     "name": "stdout",
     "output_type": "stream",
     "text": [
      "101\n",
      "$2.90\n",
      "$293.00\n",
      "$3.81\n"
     ]
    }
   ],
   "source": [
    "#Find purchase stats for age group 25-29\n",
    "twenty29_purchase_stats = purchase_data.loc[purchase_data[\"Age Group\"]== \"25-29\", :]\n",
    "twenty29_purchases_count_unique = len(twenty29_purchase_stats[\"SN\"].unique())\n",
    "twenty29_purchases_count_total = len(twenty29_purchase_stats[\"SN\"])\n",
    "twenty29_purchase_value = twenty29_purchase_stats[\"Price\"].sum()\n",
    "print(twenty29_purchases_count_total)\n",
    "avg_twenty29_purchase_price = twenty29_purchase_value/twenty29_purchases_count_total\n",
    "print('${:.2f}'.format(avg_twenty29_purchase_price))\n",
    "print('${:.2f}'.format(twenty29_purchase_value))\n",
    "avg_twenty29_purchase_person = twenty29_purchase_value/twenty29_purchases_count_unique\n",
    "print('${:.2f}'.format(avg_twenty29_purchase_person))\n"
   ]
  },
  {
   "cell_type": "code",
   "execution_count": 28,
   "metadata": {},
   "outputs": [
    {
     "name": "stdout",
     "output_type": "stream",
     "text": [
      "73\n",
      "$2.93\n",
      "$214.00\n",
      "$4.12\n"
     ]
    }
   ],
   "source": [
    "#Find purchase stats for age group 30-34\n",
    "thirty34_purchase_stats = purchase_data.loc[purchase_data[\"Age Group\"]== \"30-34\", :]\n",
    "thirty34_purchases_count_unique = len(thirty34_purchase_stats[\"SN\"].unique())\n",
    "thirty34_purchases_count_total = len(thirty34_purchase_stats[\"SN\"])\n",
    "thirty34_purchase_value = thirty34_purchase_stats[\"Price\"].sum()\n",
    "print(thirty34_purchases_count_total)\n",
    "avg_thirty34_purchase_price = thirty34_purchase_value/thirty34_purchases_count_total\n",
    "print('${:.2f}'.format(avg_thirty34_purchase_price))\n",
    "print('${:.2f}'.format(thirty34_purchase_value))\n",
    "avg_thirty34_purchase_person = thirty34_purchase_value/thirty34_purchases_count_unique\n",
    "print('${:.2f}'.format(avg_thirty34_purchase_person))"
   ]
  },
  {
   "cell_type": "code",
   "execution_count": 29,
   "metadata": {},
   "outputs": [
    {
     "name": "stdout",
     "output_type": "stream",
     "text": [
      "41\n",
      "$3.60\n",
      "$147.67\n",
      "$4.76\n"
     ]
    }
   ],
   "source": [
    "#Find purchase stats for age group 35-39\n",
    "thirty39_purchase_stats = purchase_data.loc[purchase_data[\"Age Group\"]== \"35-39\", :]\n",
    "thirty39_purchases_count_unique = len(thirty39_purchase_stats[\"SN\"].unique())\n",
    "thirty39_purchases_count_total = len(thirty39_purchase_stats[\"SN\"])\n",
    "thirty39_purchase_value = thirty39_purchase_stats[\"Price\"].sum()\n",
    "print(thirty39_purchases_count_total)\n",
    "avg_thirty39_purchase_price = thirty39_purchase_value/thirty39_purchases_count_total\n",
    "print('${:.2f}'.format(avg_thirty39_purchase_price))\n",
    "print('${:.2f}'.format(thirty39_purchase_value))\n",
    "avg_thirty39_purchase_person = thirty39_purchase_value/thirty39_purchases_count_unique\n",
    "print('${:.2f}'.format(avg_thirty39_purchase_person))"
   ]
  },
  {
   "cell_type": "code",
   "execution_count": 30,
   "metadata": {},
   "outputs": [
    {
     "name": "stdout",
     "output_type": "stream",
     "text": [
      "13\n",
      "$2.94\n",
      "$38.24\n",
      "$3.19\n"
     ]
    }
   ],
   "source": [
    "#Find purchase stats for age group 40 and over\n",
    "fortyplus_purchase_stats = purchase_data.loc[purchase_data[\"Age Group\"]== \"40+\", :]\n",
    "fortyplus_purchases_count_unique = len(fortyplus_purchase_stats[\"SN\"].unique())\n",
    "fortyplus_purchases_count_total = len(fortyplus_purchase_stats[\"SN\"])\n",
    "fortyplus_purchase_value = fortyplus_purchase_stats[\"Price\"].sum()\n",
    "print(fortyplus_purchases_count_total)\n",
    "avg_fortyplus_purchase_price = fortyplus_purchase_value/fortyplus_purchases_count_total\n",
    "print('${:.2f}'.format(avg_fortyplus_purchase_price))\n",
    "print('${:.2f}'.format(fortyplus_purchase_value))\n",
    "avg_fortyplus_purchase_person = fortyplus_purchase_value/fortyplus_purchases_count_unique\n",
    "print('${:.2f}'.format(avg_fortyplus_purchase_person))"
   ]
  },
  {
   "cell_type": "code",
   "execution_count": 31,
   "metadata": {},
   "outputs": [
    {
     "data": {
      "text/html": [
       "<div>\n",
       "<style scoped>\n",
       "    .dataframe tbody tr th:only-of-type {\n",
       "        vertical-align: middle;\n",
       "    }\n",
       "\n",
       "    .dataframe tbody tr th {\n",
       "        vertical-align: top;\n",
       "    }\n",
       "\n",
       "    .dataframe thead th {\n",
       "        text-align: right;\n",
       "    }\n",
       "</style>\n",
       "<table border=\"1\" class=\"dataframe\">\n",
       "  <thead>\n",
       "    <tr style=\"text-align: right;\">\n",
       "      <th></th>\n",
       "      <th>Avg Purchase Price</th>\n",
       "      <th>Avg Total Purchase Per Person</th>\n",
       "      <th>Purchase Count</th>\n",
       "      <th>Total Purchase Value</th>\n",
       "    </tr>\n",
       "    <tr>\n",
       "      <th>Age Group</th>\n",
       "      <th></th>\n",
       "      <th></th>\n",
       "      <th></th>\n",
       "      <th></th>\n",
       "    </tr>\n",
       "  </thead>\n",
       "  <tbody>\n",
       "    <tr>\n",
       "      <th>&lt;10</th>\n",
       "      <td>$3.35</td>\n",
       "      <td>$4.54</td>\n",
       "      <td>23</td>\n",
       "      <td>$77.13</td>\n",
       "    </tr>\n",
       "    <tr>\n",
       "      <th>10-14</th>\n",
       "      <td>$2.96</td>\n",
       "      <td>$3.76</td>\n",
       "      <td>28</td>\n",
       "      <td>$82.78</td>\n",
       "    </tr>\n",
       "    <tr>\n",
       "      <th>&lt;15-19</th>\n",
       "      <td>$3.04</td>\n",
       "      <td>$3.86</td>\n",
       "      <td>136</td>\n",
       "      <td>$412.89</td>\n",
       "    </tr>\n",
       "    <tr>\n",
       "      <th>&lt;20-24</th>\n",
       "      <td>$3.05</td>\n",
       "      <td>$4.32</td>\n",
       "      <td>365</td>\n",
       "      <td>$1114.06</td>\n",
       "    </tr>\n",
       "    <tr>\n",
       "      <th>25-29</th>\n",
       "      <td>$2.90</td>\n",
       "      <td>$3.81</td>\n",
       "      <td>101</td>\n",
       "      <td>$293.00</td>\n",
       "    </tr>\n",
       "    <tr>\n",
       "      <th>&lt;30-34</th>\n",
       "      <td>$2.93</td>\n",
       "      <td>$4.12</td>\n",
       "      <td>73</td>\n",
       "      <td>$214.00</td>\n",
       "    </tr>\n",
       "    <tr>\n",
       "      <th>35-39</th>\n",
       "      <td>$3.60</td>\n",
       "      <td>$4.76</td>\n",
       "      <td>41</td>\n",
       "      <td>$147.67</td>\n",
       "    </tr>\n",
       "    <tr>\n",
       "      <th>40+</th>\n",
       "      <td>2.94</td>\n",
       "      <td>$3.19</td>\n",
       "      <td>13</td>\n",
       "      <td>$38.24</td>\n",
       "    </tr>\n",
       "  </tbody>\n",
       "</table>\n",
       "</div>"
      ],
      "text/plain": [
       "          Avg Purchase Price Avg Total Purchase Per Person Purchase Count  \\\n",
       "Age Group                                                                   \n",
       "<10                    $3.35                         $4.54             23   \n",
       "10-14                  $2.96                         $3.76             28   \n",
       "<15-19                 $3.04                         $3.86            136   \n",
       "<20-24                 $3.05                         $4.32            365   \n",
       "25-29                  $2.90                         $3.81            101   \n",
       "<30-34                 $2.93                         $4.12             73   \n",
       "35-39                  $3.60                         $4.76             41   \n",
       "40+                     2.94                         $3.19             13   \n",
       "\n",
       "          Total Purchase Value  \n",
       "Age Group                       \n",
       "<10                     $77.13  \n",
       "10-14                   $82.78  \n",
       "<15-19                 $412.89  \n",
       "<20-24                $1114.06  \n",
       "25-29                  $293.00  \n",
       "<30-34                 $214.00  \n",
       "35-39                  $147.67  \n",
       "40+                     $38.24  "
      ]
     },
     "execution_count": 31,
     "metadata": {},
     "output_type": "execute_result"
    }
   ],
   "source": [
    "#Put data gathered in previous 8 cells into a dataframe and display results\n",
    "agedgroupdata = [{\"Age Group\": \"<10\", \"Purchase Count\": \"23\", \"Avg Purchase Price\": \"$3.35\", \"Total Purchase Value\": \"$77.13\", \"Avg Total Purchase Per Person\": \"$4.54\"},\n",
    "  {\"Age Group\": \"10-14\", \"Purchase Count\": \"28\", \"Avg Purchase Price\": \"$2.96\", \"Total Purchase Value\": \"$82.78\", \"Avg Total Purchase Per Person\": \"$3.76\"}, \n",
    " {\"Age Group\": \"<15-19\", \"Purchase Count\": \"136\", \"Avg Purchase Price\": \"$3.04\", \"Total Purchase Value\": \"$412.89\", \"Avg Total Purchase Per Person\": \"$3.86\"},\n",
    " {\"Age Group\": \"<20-24\", \"Purchase Count\": \"365\", \"Avg Purchase Price\": \"$3.05\", \"Total Purchase Value\": \"$1114.06\", \"Avg Total Purchase Per Person\": \"$4.32\"},\n",
    " {\"Age Group\": \"25-29\", \"Purchase Count\": \"101\", \"Avg Purchase Price\": \"$2.90\", \"Total Purchase Value\": \"$293.00\", \"Avg Total Purchase Per Person\": \"$3.81\"},\n",
    " {\"Age Group\": \"<30-34\", \"Purchase Count\": \"73\", \"Avg Purchase Price\": \"$2.93\", \"Total Purchase Value\": \"$214.00\", \"Avg Total Purchase Per Person\": \"$4.12\"},\n",
    " {\"Age Group\": \"35-39\", \"Purchase Count\": \"41\", \"Avg Purchase Price\": \"$3.60\", \"Total Purchase Value\": \"$147.67\", \"Avg Total Purchase Per Person\": \"$4.76\"},\n",
    " {\"Age Group\": \"40+\", \"Purchase Count\": \"13\", \"Avg Purchase Price\": \"2.94\", \"Total Purchase Value\": \"$38.24\", \"Avg Total Purchase Per Person\": \"$3.19\"}]\n",
    "summarybyage = pd.DataFrame(agedgroupdata)\n",
    "summarybyage.set_index('Age Group')"
   ]
  },
  {
   "cell_type": "markdown",
   "metadata": {},
   "source": [
    "## Top Spenders"
   ]
  },
  {
   "cell_type": "markdown",
   "metadata": {},
   "source": [
    "* Run basic calculations to obtain the results in the table below\n",
    "\n",
    "\n",
    "* Create a summary data frame to hold the results\n",
    "\n",
    "\n",
    "* Sort the total purchase value column in descending order\n",
    "\n",
    "\n",
    "* Optional: give the displayed data cleaner formatting\n",
    "\n",
    "\n",
    "* Display a preview of the summary data frame\n",
    "\n"
   ]
  },
  {
   "cell_type": "code",
   "execution_count": 32,
   "metadata": {
    "scrolled": false
   },
   "outputs": [
    {
     "data": {
      "text/html": [
       "<div>\n",
       "<style scoped>\n",
       "    .dataframe tbody tr th:only-of-type {\n",
       "        vertical-align: middle;\n",
       "    }\n",
       "\n",
       "    .dataframe tbody tr th {\n",
       "        vertical-align: top;\n",
       "    }\n",
       "\n",
       "    .dataframe thead th {\n",
       "        text-align: right;\n",
       "    }\n",
       "</style>\n",
       "<table border=\"1\" class=\"dataframe\">\n",
       "  <thead>\n",
       "    <tr style=\"text-align: right;\">\n",
       "      <th></th>\n",
       "      <th>Purchase Count</th>\n",
       "      <th>Average Purchase Price</th>\n",
       "      <th>Total Purchase value</th>\n",
       "    </tr>\n",
       "    <tr>\n",
       "      <th>SN</th>\n",
       "      <th></th>\n",
       "      <th></th>\n",
       "      <th></th>\n",
       "    </tr>\n",
       "  </thead>\n",
       "  <tbody>\n",
       "    <tr>\n",
       "      <th>Lisosia93</th>\n",
       "      <td>5</td>\n",
       "      <td>$ 3.79</td>\n",
       "      <td>$ 18.96</td>\n",
       "    </tr>\n",
       "    <tr>\n",
       "      <th>Idastidru52</th>\n",
       "      <td>4</td>\n",
       "      <td>$ 3.86</td>\n",
       "      <td>$ 15.45</td>\n",
       "    </tr>\n",
       "    <tr>\n",
       "      <th>Chamjask73</th>\n",
       "      <td>3</td>\n",
       "      <td>$ 4.61</td>\n",
       "      <td>$ 13.83</td>\n",
       "    </tr>\n",
       "    <tr>\n",
       "      <th>Iral74</th>\n",
       "      <td>4</td>\n",
       "      <td>$ 3.40</td>\n",
       "      <td>$ 13.62</td>\n",
       "    </tr>\n",
       "    <tr>\n",
       "      <th>Iskadarya95</th>\n",
       "      <td>3</td>\n",
       "      <td>$ 4.37</td>\n",
       "      <td>$ 13.10</td>\n",
       "    </tr>\n",
       "  </tbody>\n",
       "</table>\n",
       "</div>"
      ],
      "text/plain": [
       "             Purchase Count Average Purchase Price Total Purchase value\n",
       "SN                                                                     \n",
       "Lisosia93                 5                 $ 3.79              $ 18.96\n",
       "Idastidru52               4                 $ 3.86              $ 15.45\n",
       "Chamjask73                3                 $ 4.61              $ 13.83\n",
       "Iral74                    4                 $ 3.40              $ 13.62\n",
       "Iskadarya95               3                 $ 4.37              $ 13.10"
      ]
     },
     "execution_count": 32,
     "metadata": {},
     "output_type": "execute_result"
    }
   ],
   "source": [
    "#Find the top spenders and make calculations of each one\n",
    "top_spenders = purchase_data.groupby(['SN'])\n",
    "top_spenders\n",
    "purchase_count = top_spenders['Purchase ID'].count()\n",
    "purchase_count.head()\n",
    "total_purchase_value = top_spenders['Price'].sum()\n",
    "total_purchase_value\n",
    "average_purchase_price = total_purchase_value/purchase_count\n",
    "average_purchase_price\n",
    "top_spenders_df = pd.DataFrame({'Purchase Count': purchase_count, 'Average Purchase Price':average_purchase_price, \n",
    "                                'Total Purchase value': total_purchase_value})\n",
    "top_spenders_df2 = top_spenders_df.sort_values([\"Total Purchase value\"], ascending=False)\n",
    "top_spenders_df3 = top_spenders_df2.round(2)\n",
    "top_spenders_df3['Total Purchase value'] = top_spenders_df3['Total Purchase value'].map(\"${: .2f}\".format)\n",
    "top_spenders_df3['Average Purchase Price'] = top_spenders_df3['Average Purchase Price'].map(\"${: .2f}\".format)\n",
    "top_spenders_df3.head()\n",
    "\n",
    "\n"
   ]
  },
  {
   "cell_type": "markdown",
   "metadata": {},
   "source": [
    "## Most Popular Items"
   ]
  },
  {
   "cell_type": "markdown",
   "metadata": {},
   "source": [
    "* Retrieve the Item ID, Item Name, and Item Price columns\n",
    "\n",
    "\n",
    "* Group by Item ID and Item Name. Perform calculations to obtain purchase count, item price, and total purchase value\n",
    "\n",
    "\n",
    "* Create a summary data frame to hold the results\n",
    "\n",
    "\n",
    "* Sort the purchase count column in descending order\n",
    "\n",
    "\n",
    "* Optional: give the displayed data cleaner formatting\n",
    "\n",
    "\n",
    "* Display a preview of the summary data frame\n",
    "\n"
   ]
  },
  {
   "cell_type": "code",
   "execution_count": 33,
   "metadata": {},
   "outputs": [
    {
     "data": {
      "text/html": [
       "<div>\n",
       "<style scoped>\n",
       "    .dataframe tbody tr th:only-of-type {\n",
       "        vertical-align: middle;\n",
       "    }\n",
       "\n",
       "    .dataframe tbody tr th {\n",
       "        vertical-align: top;\n",
       "    }\n",
       "\n",
       "    .dataframe thead th {\n",
       "        text-align: right;\n",
       "    }\n",
       "</style>\n",
       "<table border=\"1\" class=\"dataframe\">\n",
       "  <thead>\n",
       "    <tr style=\"text-align: right;\">\n",
       "      <th></th>\n",
       "      <th></th>\n",
       "      <th>Purchase Count</th>\n",
       "      <th>Item Price</th>\n",
       "      <th>Total Purchase Value</th>\n",
       "    </tr>\n",
       "    <tr>\n",
       "      <th>Item ID</th>\n",
       "      <th>Item Name</th>\n",
       "      <th></th>\n",
       "      <th></th>\n",
       "      <th></th>\n",
       "    </tr>\n",
       "  </thead>\n",
       "  <tbody>\n",
       "    <tr>\n",
       "      <th>178</th>\n",
       "      <th>Oathbreaker, Last Hope of the Breaking Storm</th>\n",
       "      <td>12</td>\n",
       "      <td>$ 4.23</td>\n",
       "      <td>$ 50.76</td>\n",
       "    </tr>\n",
       "    <tr>\n",
       "      <th>145</th>\n",
       "      <th>Fiery Glass Crusader</th>\n",
       "      <td>9</td>\n",
       "      <td>$ 4.58</td>\n",
       "      <td>$ 41.22</td>\n",
       "    </tr>\n",
       "    <tr>\n",
       "      <th>108</th>\n",
       "      <th>Extraction, Quickblade Of Trembling Hands</th>\n",
       "      <td>9</td>\n",
       "      <td>$ 3.53</td>\n",
       "      <td>$ 31.77</td>\n",
       "    </tr>\n",
       "    <tr>\n",
       "      <th>82</th>\n",
       "      <th>Nirvana</th>\n",
       "      <td>9</td>\n",
       "      <td>$ 4.90</td>\n",
       "      <td>$ 44.10</td>\n",
       "    </tr>\n",
       "    <tr>\n",
       "      <th>19</th>\n",
       "      <th>Pursuit, Cudgel of Necromancy</th>\n",
       "      <td>8</td>\n",
       "      <td>$ 1.02</td>\n",
       "      <td>$ 8.16</td>\n",
       "    </tr>\n",
       "  </tbody>\n",
       "</table>\n",
       "</div>"
      ],
      "text/plain": [
       "                                                      Purchase Count  \\\n",
       "Item ID Item Name                                                      \n",
       "178     Oathbreaker, Last Hope of the Breaking Storm              12   \n",
       "145     Fiery Glass Crusader                                       9   \n",
       "108     Extraction, Quickblade Of Trembling Hands                  9   \n",
       "82      Nirvana                                                    9   \n",
       "19      Pursuit, Cudgel of Necromancy                              8   \n",
       "\n",
       "                                                     Item Price  \\\n",
       "Item ID Item Name                                                 \n",
       "178     Oathbreaker, Last Hope of the Breaking Storm     $ 4.23   \n",
       "145     Fiery Glass Crusader                             $ 4.58   \n",
       "108     Extraction, Quickblade Of Trembling Hands        $ 3.53   \n",
       "82      Nirvana                                          $ 4.90   \n",
       "19      Pursuit, Cudgel of Necromancy                    $ 1.02   \n",
       "\n",
       "                                                     Total Purchase Value  \n",
       "Item ID Item Name                                                          \n",
       "178     Oathbreaker, Last Hope of the Breaking Storm              $ 50.76  \n",
       "145     Fiery Glass Crusader                                      $ 41.22  \n",
       "108     Extraction, Quickblade Of Trembling Hands                 $ 31.77  \n",
       "82      Nirvana                                                   $ 44.10  \n",
       "19      Pursuit, Cudgel of Necromancy                              $ 8.16  "
      ]
     },
     "execution_count": 33,
     "metadata": {},
     "output_type": "execute_result"
    }
   ],
   "source": [
    "#Find te most popular items, price of each item, and the total purchase value of each item\n",
    "items_df = purchase_data[[\"Item ID\", \"Item Name\", \"Price\"]]\n",
    "items_df\n",
    "popular_items = items_df.groupby(['Item ID', 'Item Name'])\n",
    "purchase_count_items = popular_items['Item ID'].count()\n",
    "purchase_count_items.head()\n",
    "total_purchase_value = popular_items[\"Price\"].sum()\n",
    "total_purchase_value.head\n",
    "average_purchase_price = total_purchase_value/purchase_count_items\n",
    "average_purchase_price\n",
    "most_popular_items = pd.DataFrame({'Purchase Count': purchase_count_items, 'Item Price':average_purchase_price, \n",
    "                                'Total Purchase Value': total_purchase_value})\n",
    "most_popular_items2 = most_popular_items.sort_values([\"Purchase Count\"], ascending=False)\n",
    "most_popular_items2.head()\n",
    "most_popular_items2['Total Purchase Value'] = most_popular_items2['Total Purchase Value'].map(\"${: .2f}\".format)\n",
    "most_popular_items2['Item Price'] = most_popular_items2['Item Price'].map(\"${: .2f}\".format)\n",
    "most_popular_items2.head()\n",
    "\n",
    "\n",
    "\n",
    "\n",
    "\n"
   ]
  },
  {
   "cell_type": "markdown",
   "metadata": {},
   "source": [
    "## Most Profitable Items"
   ]
  },
  {
   "cell_type": "markdown",
   "metadata": {},
   "source": [
    "* Sort the above table by total purchase value in descending order\n",
    "\n",
    "\n",
    "* Optional: give the displayed data cleaner formatting\n",
    "\n",
    "\n",
    "* Display a preview of the data frame\n",
    "\n"
   ]
  },
  {
   "cell_type": "code",
   "execution_count": 34,
   "metadata": {},
   "outputs": [
    {
     "data": {
      "text/html": [
       "<div>\n",
       "<style scoped>\n",
       "    .dataframe tbody tr th:only-of-type {\n",
       "        vertical-align: middle;\n",
       "    }\n",
       "\n",
       "    .dataframe tbody tr th {\n",
       "        vertical-align: top;\n",
       "    }\n",
       "\n",
       "    .dataframe thead th {\n",
       "        text-align: right;\n",
       "    }\n",
       "</style>\n",
       "<table border=\"1\" class=\"dataframe\">\n",
       "  <thead>\n",
       "    <tr style=\"text-align: right;\">\n",
       "      <th></th>\n",
       "      <th></th>\n",
       "      <th>Purchase Count</th>\n",
       "      <th>Item Price</th>\n",
       "      <th>Total Purchase Value</th>\n",
       "    </tr>\n",
       "    <tr>\n",
       "      <th>Item ID</th>\n",
       "      <th>Item Name</th>\n",
       "      <th></th>\n",
       "      <th></th>\n",
       "      <th></th>\n",
       "    </tr>\n",
       "  </thead>\n",
       "  <tbody>\n",
       "    <tr>\n",
       "      <th>178</th>\n",
       "      <th>Oathbreaker, Last Hope of the Breaking Storm</th>\n",
       "      <td>12</td>\n",
       "      <td>$ 4.23</td>\n",
       "      <td>$ 50.76</td>\n",
       "    </tr>\n",
       "    <tr>\n",
       "      <th>82</th>\n",
       "      <th>Nirvana</th>\n",
       "      <td>9</td>\n",
       "      <td>$ 4.90</td>\n",
       "      <td>$ 44.10</td>\n",
       "    </tr>\n",
       "    <tr>\n",
       "      <th>145</th>\n",
       "      <th>Fiery Glass Crusader</th>\n",
       "      <td>9</td>\n",
       "      <td>$ 4.58</td>\n",
       "      <td>$ 41.22</td>\n",
       "    </tr>\n",
       "    <tr>\n",
       "      <th>92</th>\n",
       "      <th>Final Critic</th>\n",
       "      <td>8</td>\n",
       "      <td>$ 4.88</td>\n",
       "      <td>$ 39.04</td>\n",
       "    </tr>\n",
       "    <tr>\n",
       "      <th>103</th>\n",
       "      <th>Singed Scalpel</th>\n",
       "      <td>8</td>\n",
       "      <td>$ 4.35</td>\n",
       "      <td>$ 34.80</td>\n",
       "    </tr>\n",
       "  </tbody>\n",
       "</table>\n",
       "</div>"
      ],
      "text/plain": [
       "                                                      Purchase Count  \\\n",
       "Item ID Item Name                                                      \n",
       "178     Oathbreaker, Last Hope of the Breaking Storm              12   \n",
       "82      Nirvana                                                    9   \n",
       "145     Fiery Glass Crusader                                       9   \n",
       "92      Final Critic                                               8   \n",
       "103     Singed Scalpel                                             8   \n",
       "\n",
       "                                                     Item Price  \\\n",
       "Item ID Item Name                                                 \n",
       "178     Oathbreaker, Last Hope of the Breaking Storm     $ 4.23   \n",
       "82      Nirvana                                          $ 4.90   \n",
       "145     Fiery Glass Crusader                             $ 4.58   \n",
       "92      Final Critic                                     $ 4.88   \n",
       "103     Singed Scalpel                                   $ 4.35   \n",
       "\n",
       "                                                     Total Purchase Value  \n",
       "Item ID Item Name                                                          \n",
       "178     Oathbreaker, Last Hope of the Breaking Storm              $ 50.76  \n",
       "82      Nirvana                                                   $ 44.10  \n",
       "145     Fiery Glass Crusader                                      $ 41.22  \n",
       "92      Final Critic                                              $ 39.04  \n",
       "103     Singed Scalpel                                            $ 34.80  "
      ]
     },
     "execution_count": 34,
     "metadata": {},
     "output_type": "execute_result"
    }
   ],
   "source": [
    "most_popular_items3 = most_popular_items.sort_values([\"Total Purchase Value\"], ascending=False)\n",
    "most_popular_items3['Total Purchase Value'] = most_popular_items3['Total Purchase Value'].map(\"${: .2f}\".format)\n",
    "most_popular_items3['Item Price'] = most_popular_items3['Item Price'].map(\"${: .2f}\".format)\n",
    "most_popular_items3.head()"
   ]
  },
  {
   "cell_type": "code",
   "execution_count": null,
   "metadata": {},
   "outputs": [],
   "source": []
  }
 ],
 "metadata": {
  "anaconda-cloud": {},
  "kernel_info": {
   "name": "python3"
  },
  "kernelspec": {
   "display_name": "Python 3",
   "language": "python",
   "name": "python3"
  },
  "language_info": {
   "codemirror_mode": {
    "name": "ipython",
    "version": 3
   },
   "file_extension": ".py",
   "mimetype": "text/x-python",
   "name": "python",
   "nbconvert_exporter": "python",
   "pygments_lexer": "ipython3",
   "version": "3.7.3"
  },
  "nteract": {
   "version": "0.2.0"
  }
 },
 "nbformat": 4,
 "nbformat_minor": 2
}
